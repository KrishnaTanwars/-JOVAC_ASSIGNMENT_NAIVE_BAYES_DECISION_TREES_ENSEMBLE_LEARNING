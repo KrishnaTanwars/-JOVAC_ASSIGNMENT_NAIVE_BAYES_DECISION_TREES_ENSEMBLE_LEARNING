{
 "cells": [
  {
   "cell_type": "markdown",
   "id": "b70c2c27",
   "metadata": {},
   "source": [
    "# Task 7: Conceptual Questions"
   ]
  },
  {
   "cell_type": "markdown",
   "id": "e95e9f99",
   "metadata": {},
   "source": [
    "Ques.1. What is the difference between Bagging and Boosting?\n",
    "\n",
    "Ans.1. \n",
    "\n",
    "| Aspect             |   Bagging                                                  |   Boosting                                                   |\n",
    "| ------------------ | ---------------------------------------------------------- | ------------------------------------------------------------ |\n",
    "| Purpose            | Reduces variance                                           | Reduces bias and variance                                    |\n",
    "| Technique          | Trains models independently in parallel                    | Trains models sequentially, each correcting the previous     |\n",
    "| Data Sampling      | Uses bootstrapped (random) samples                         | Uses weighted data based on previous errors                  |\n",
    "| Final Prediction   | Majority vote (classification) or average (regression)     | Weighted vote based on model accuracy                        |\n",
    "| Example Algorithms | Random Forest                                              | AdaBoost, Gradient Boosting                                  |\n"
   ]
  },
  {
   "cell_type": "markdown",
   "id": "d6625991",
   "metadata": {},
   "source": [
    "Ques.2. How does Random Forest reduce variance?\n",
    "\n",
    "Ans.2.\n",
    "Random Forest lowers variance by building several decision trees on randomly selected portions of the dataset and features, a technique known as bagging. Instead of relying on a single tree, it combines the outputs of all trees—using majority vote in classification or averaging in regression. This collective approach balances out the errors of individual trees, making the model more stable and less prone to overfitting."
   ]
  },
  {
   "cell_type": "markdown",
   "id": "16066d59",
   "metadata": {},
   "source": [
    "Ques.3. What is the weakness of boosting-based methods?\n",
    "\n",
    "Ans.3.\n",
    "Boosting techniques come with a few limitations:\n",
    "\n",
    "High sensitivity to noise and outliers: Since boosting emphasizes correcting previous mistakes, it may end up overfitting on noisy or irrelevant data.\n",
    "\n",
    "Slower training process: As models are trained one after another, it takes more time compared to parallel approaches like bagging.\n",
    "\n",
    "Increased complexity: Boosting models can be harder to fine-tune and interpret, making them less straightforward than some ensemble alternatives.\n"
   ]
  },
  {
   "cell_type": "markdown",
   "id": "32d46dae",
   "metadata": {},
   "source": [
    "# Task 8: Random Forest vs Decision Tree"
   ]
  },
  {
   "cell_type": "code",
   "execution_count": 1,
   "id": "bc2dc849",
   "metadata": {},
   "outputs": [
    {
     "name": "stderr",
     "output_type": "stream",
     "text": [
      "C:\\Users\\Krishna\\AppData\\Local\\Temp\\ipykernel_21236\\3737271145.py:14: SettingWithCopyWarning: \n",
      "A value is trying to be set on a copy of a slice from a DataFrame\n",
      "\n",
      "See the caveats in the documentation: https://pandas.pydata.org/pandas-docs/stable/user_guide/indexing.html#returning-a-view-versus-a-copy\n",
      "  df.dropna(inplace=True)\n",
      "C:\\Users\\Krishna\\AppData\\Local\\Temp\\ipykernel_21236\\3737271145.py:18: SettingWithCopyWarning: \n",
      "A value is trying to be set on a copy of a slice from a DataFrame.\n",
      "Try using .loc[row_indexer,col_indexer] = value instead\n",
      "\n",
      "See the caveats in the documentation: https://pandas.pydata.org/pandas-docs/stable/user_guide/indexing.html#returning-a-view-versus-a-copy\n",
      "  df['sex'] = label_sex.fit_transform(df['sex'])\n",
      "C:\\Users\\Krishna\\AppData\\Local\\Temp\\ipykernel_21236\\3737271145.py:19: SettingWithCopyWarning: \n",
      "A value is trying to be set on a copy of a slice from a DataFrame.\n",
      "Try using .loc[row_indexer,col_indexer] = value instead\n",
      "\n",
      "See the caveats in the documentation: https://pandas.pydata.org/pandas-docs/stable/user_guide/indexing.html#returning-a-view-versus-a-copy\n",
      "  df['embarked'] = label_embark.fit_transform(df['embarked'])\n"
     ]
    },
    {
     "name": "stdout",
     "output_type": "stream",
     "text": [
      "\n",
      "Decision Tree Performance:\n",
      "Accuracy : 0.7512\n",
      "Precision: 0.7162\n",
      "Recall   : 0.631\n",
      "\n",
      "Random Forest Performance:\n",
      "Accuracy : 0.7799\n",
      "Precision: 0.8065\n",
      "Recall   : 0.5952\n"
     ]
    },
    {
     "data": {
      "image/png": "[encoded data removed]",
      "text/plain": [
       "<Figure size 800x500 with 1 Axes>"
      ]
     },
     "metadata": {},
     "output_type": "display_data"
    }
   ],
   "source": [
    "import pandas as pd\n",
    "from sklearn.model_selection import train_test_split\n",
    "from sklearn.preprocessing import LabelEncoder\n",
    "from sklearn.metrics import accuracy_score, precision_score, recall_score\n",
    "from sklearn.tree import DecisionTreeClassifier\n",
    "from sklearn.ensemble import RandomForestClassifier\n",
    "import matplotlib.pyplot as plt\n",
    "from sklearn.datasets import fetch_openml\n",
    "\n",
    "data = fetch_openml('titanic', version=1, as_frame=True)\n",
    "df = data.frame\n",
    "\n",
    "df = df[['survived', 'pclass', 'sex', 'age', 'fare', 'embarked']]\n",
    "df.dropna(inplace=True)\n",
    "\n",
    "label_sex = LabelEncoder()\n",
    "label_embark = LabelEncoder()\n",
    "df['sex'] = label_sex.fit_transform(df['sex'])\n",
    "df['embarked'] = label_embark.fit_transform(df['embarked'])\n",
    "\n",
    "inputs = df.drop('survived', axis=1)\n",
    "output = df['survived'].astype(int)\n",
    "\n",
    "X_train, X_test, y_train, y_test = train_test_split(inputs, output, test_size=0.2, random_state=42)\n",
    "\n",
    "tree_clf = DecisionTreeClassifier(random_state=42)\n",
    "tree_clf.fit(X_train, y_train)\n",
    "pred_tree = tree_clf.predict(X_test)\n",
    "\n",
    "forest_clf = RandomForestClassifier(n_estimators=100, random_state=42)\n",
    "forest_clf.fit(X_train, y_train)\n",
    "pred_forest = forest_clf.predict(X_test)\n",
    "\n",
    "def show_metrics(model_name, actual, predicted):\n",
    "    print(f\"\\n{model_name} Performance:\")\n",
    "    print(\"Accuracy :\", round(accuracy_score(actual, predicted), 4))\n",
    "    print(\"Precision:\", round(precision_score(actual, predicted), 4))\n",
    "    print(\"Recall   :\", round(recall_score(actual, predicted), 4))\n",
    "\n",
    "show_metrics(\"Decision Tree\", y_test, pred_tree)\n",
    "show_metrics(\"Random Forest\", y_test, pred_forest)\n",
    "\n",
    "importance_vals = forest_clf.feature_importances_\n",
    "cols = inputs.columns\n",
    "\n",
    "plt.figure(figsize=(8, 5))\n",
    "plt.barh(cols, importance_vals, color='skyblue')\n",
    "plt.xlabel(\"Importance Score\")\n",
    "plt.title(\"Random Forest - Feature Importance\")\n",
    "plt.grid(True)\n",
    "plt.tight_layout()\n",
    "plt.show()\n"
   ]
  },
  {
   "cell_type": "markdown",
   "id": "c51aa98f",
   "metadata": {},
   "source": [
    "# Task 9: AdaBoost or Gradient Boosting"
   ]
  },
  {
   "cell_type": "code",
   "execution_count": 2,
   "id": "9f1779f7",
   "metadata": {},
   "outputs": [
    {
     "name": "stdout",
     "output_type": "stream",
     "text": [
      "\n",
      "Decision Tree Results:\n",
      "Accuracy  : 1.0000\n",
      "F1 Score  : 1.0000\n",
      "Train Time: 0.0020 seconds\n",
      "\n",
      "Random Forest Results:\n",
      "Accuracy  : 1.0000\n",
      "F1 Score  : 1.0000\n",
      "Train Time: 0.0856 seconds\n"
     ]
    }
   ],
   "source": [
    "import pandas as pd\n",
    "from sklearn.datasets import load_iris\n",
    "from sklearn.model_selection import train_test_split\n",
    "from sklearn.metrics import accuracy_score, f1_score\n",
    "from sklearn.tree import DecisionTreeClassifier\n",
    "from sklearn.ensemble import RandomForestClassifier, AdaBoostClassifier, GradientBoostingClassifier\n",
    "import time\n",
    "\n",
    "data = load_iris(as_frame=True)\n",
    "features = data.data\n",
    "labels = data.target\n",
    "\n",
    "X_train, X_test, y_train, y_test = train_test_split(features, labels, test_size=0.2, random_state=42)\n",
    "\n",
    "def run_evaluation(model_name, clf, X_train, X_test, y_train, y_test):\n",
    "    start_time = time.time()\n",
    "    clf.fit(X_train, y_train)\n",
    "    end_time = time.time()\n",
    "\n",
    "    predictions = clf.predict(X_test)\n",
    "    acc_score = accuracy_score(y_test, predictions)\n",
    "    f1 = f1_score(y_test, predictions, average='macro')\n",
    "    exec_time = end_time - start_time\n",
    "\n",
    "    print(f\"\\n{model_name} Results:\")\n",
    "    print(f\"Accuracy  : {acc_score:.4f}\")\n",
    "    print(f\"F1 Score  : {f1:.4f}\")\n",
    "    print(f\"Train Time: {exec_time:.4f} seconds\")\n",
    "\n",
    "run_evaluation(\"Decision Tree\", DecisionTreeClassifier(random_state=42), X_train, X_test, y_train, y_test)\n",
    "run_evaluation(\"Random Forest\", RandomForestClassifier(n_estimators=100, random_state=42), X_train, X_test, y_train, y_test)\n"
   ]
  }
 ],
 "metadata": {
  "kernelspec": {
   "display_name": "base",
   "language": "python",
   "name": "python3"
  },
  "language_info": {
   "codemirror_mode": {
    "name": "ipython",
    "version": 3
   },
   "file_extension": ".py",
   "mimetype": "text/x-python",
   "name": "python",
   "nbconvert_exporter": "python",
   "pygments_lexer": "ipython3",
   "version": "3.12.7"
  }
 },
 "nbformat": 4,
 "nbformat_minor": 5
}
